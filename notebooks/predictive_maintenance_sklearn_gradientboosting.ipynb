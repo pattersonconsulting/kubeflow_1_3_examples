{
  "nbformat": 4,
  "nbformat_minor": 0,
  "metadata": {
    "colab": {
      "name": "predictive_maintenance_sklearn_gradientboosting.ipynb",
      "provenance": [],
      "collapsed_sections": []
    },
    "kernelspec": {
      "name": "python3",
      "display_name": "Python 3"
    },
    "language_info": {
      "name": "python"
    }
  },
  "cells": [
    {
      "cell_type": "code",
      "metadata": {
        "id": "L0MjBet4Ravf"
      },
      "source": [
        "# import basic data science libraries\n",
        "\n",
        "import pandas as pd\n",
        "import numpy as np\n",
        "from matplotlib import pyplot as plt\n",
        "import seaborn as sns\n",
        "from matplotlib.patches import Patch\n",
        "from matplotlib.lines import Line2D\n",
        "import datetime\n"
      ],
      "execution_count": 1,
      "outputs": []
    },
    {
      "cell_type": "code",
      "metadata": {
        "id": "U3i_PN8URs-h"
      },
      "source": [
        "\n",
        "# import required machine learning libraries\n",
        "\n",
        "from sklearn.linear_model import LogisticRegression\n",
        "from sklearn.discriminant_analysis import LinearDiscriminantAnalysis\n",
        "from sklearn.svm import SVC\n",
        "from sklearn.ensemble import RandomForestClassifier, GradientBoostingClassifier\n",
        "from sklearn.model_selection import KFold, cross_val_score, GridSearchCV, train_test_split\n",
        "from sklearn.metrics import accuracy_score, classification_report, confusion_matrix\n",
        "\n",
        "import warnings\n",
        "from sklearn.exceptions import DataConversionWarning\n",
        "warnings.filterwarnings(action='ignore', category=DataConversionWarning)"
      ],
      "execution_count": 2,
      "outputs": []
    },
    {
      "cell_type": "code",
      "metadata": {
        "colab": {
          "base_uri": "https://localhost:8080/"
        },
        "id": "SxcPzQwFR9Pk",
        "outputId": "3fbd34b2-fe81-40ee-84b9-0aa37e1d85fb"
      },
      "source": [
        "df = pd.read_csv(\"https://archive.ics.uci.edu/ml/machine-learning-databases/00601/ai4i2020.csv\")\n",
        "print( df.head() )\n",
        "\n",
        "print( df.info() )"
      ],
      "execution_count": 3,
      "outputs": [
        {
          "output_type": "stream",
          "text": [
            "   UDI Product ID Type  Air temperature [K]  ...  HDF  PWF  OSF  RNF\n",
            "0    1     M14860    M                298.1  ...    0    0    0    0\n",
            "1    2     L47181    L                298.2  ...    0    0    0    0\n",
            "2    3     L47182    L                298.1  ...    0    0    0    0\n",
            "3    4     L47183    L                298.2  ...    0    0    0    0\n",
            "4    5     L47184    L                298.2  ...    0    0    0    0\n",
            "\n",
            "[5 rows x 14 columns]\n",
            "<class 'pandas.core.frame.DataFrame'>\n",
            "RangeIndex: 10000 entries, 0 to 9999\n",
            "Data columns (total 14 columns):\n",
            " #   Column                   Non-Null Count  Dtype  \n",
            "---  ------                   --------------  -----  \n",
            " 0   UDI                      10000 non-null  int64  \n",
            " 1   Product ID               10000 non-null  object \n",
            " 2   Type                     10000 non-null  object \n",
            " 3   Air temperature [K]      10000 non-null  float64\n",
            " 4   Process temperature [K]  10000 non-null  float64\n",
            " 5   Rotational speed [rpm]   10000 non-null  int64  \n",
            " 6   Torque [Nm]              10000 non-null  float64\n",
            " 7   Tool wear [min]          10000 non-null  int64  \n",
            " 8   Machine failure          10000 non-null  int64  \n",
            " 9   TWF                      10000 non-null  int64  \n",
            " 10  HDF                      10000 non-null  int64  \n",
            " 11  PWF                      10000 non-null  int64  \n",
            " 12  OSF                      10000 non-null  int64  \n",
            " 13  RNF                      10000 non-null  int64  \n",
            "dtypes: float64(3), int64(9), object(2)\n",
            "memory usage: 1.1+ MB\n",
            "None\n"
          ],
          "name": "stdout"
        }
      ]
    },
    {
      "cell_type": "code",
      "metadata": {
        "colab": {
          "base_uri": "https://localhost:8080/",
          "height": 221
        },
        "id": "gKMs7_wySFaD",
        "outputId": "d32b88b7-140a-4ada-c80b-a615f7d27185"
      },
      "source": [
        "# map categorical variable 'diagnosis' into numeric\n",
        "\n",
        "df[\"Type\"] = df[\"Type\"].map({'H': 2, 'M': 1, 'L': 0})\n",
        "\n",
        "df.head()\n",
        "\n"
      ],
      "execution_count": 4,
      "outputs": [
        {
          "output_type": "execute_result",
          "data": {
            "text/html": [
              "<div>\n",
              "<style scoped>\n",
              "    .dataframe tbody tr th:only-of-type {\n",
              "        vertical-align: middle;\n",
              "    }\n",
              "\n",
              "    .dataframe tbody tr th {\n",
              "        vertical-align: top;\n",
              "    }\n",
              "\n",
              "    .dataframe thead th {\n",
              "        text-align: right;\n",
              "    }\n",
              "</style>\n",
              "<table border=\"1\" class=\"dataframe\">\n",
              "  <thead>\n",
              "    <tr style=\"text-align: right;\">\n",
              "      <th></th>\n",
              "      <th>UDI</th>\n",
              "      <th>Product ID</th>\n",
              "      <th>Type</th>\n",
              "      <th>Air temperature [K]</th>\n",
              "      <th>Process temperature [K]</th>\n",
              "      <th>Rotational speed [rpm]</th>\n",
              "      <th>Torque [Nm]</th>\n",
              "      <th>Tool wear [min]</th>\n",
              "      <th>Machine failure</th>\n",
              "      <th>TWF</th>\n",
              "      <th>HDF</th>\n",
              "      <th>PWF</th>\n",
              "      <th>OSF</th>\n",
              "      <th>RNF</th>\n",
              "    </tr>\n",
              "  </thead>\n",
              "  <tbody>\n",
              "    <tr>\n",
              "      <th>0</th>\n",
              "      <td>1</td>\n",
              "      <td>M14860</td>\n",
              "      <td>1</td>\n",
              "      <td>298.1</td>\n",
              "      <td>308.6</td>\n",
              "      <td>1551</td>\n",
              "      <td>42.8</td>\n",
              "      <td>0</td>\n",
              "      <td>0</td>\n",
              "      <td>0</td>\n",
              "      <td>0</td>\n",
              "      <td>0</td>\n",
              "      <td>0</td>\n",
              "      <td>0</td>\n",
              "    </tr>\n",
              "    <tr>\n",
              "      <th>1</th>\n",
              "      <td>2</td>\n",
              "      <td>L47181</td>\n",
              "      <td>0</td>\n",
              "      <td>298.2</td>\n",
              "      <td>308.7</td>\n",
              "      <td>1408</td>\n",
              "      <td>46.3</td>\n",
              "      <td>3</td>\n",
              "      <td>0</td>\n",
              "      <td>0</td>\n",
              "      <td>0</td>\n",
              "      <td>0</td>\n",
              "      <td>0</td>\n",
              "      <td>0</td>\n",
              "    </tr>\n",
              "    <tr>\n",
              "      <th>2</th>\n",
              "      <td>3</td>\n",
              "      <td>L47182</td>\n",
              "      <td>0</td>\n",
              "      <td>298.1</td>\n",
              "      <td>308.5</td>\n",
              "      <td>1498</td>\n",
              "      <td>49.4</td>\n",
              "      <td>5</td>\n",
              "      <td>0</td>\n",
              "      <td>0</td>\n",
              "      <td>0</td>\n",
              "      <td>0</td>\n",
              "      <td>0</td>\n",
              "      <td>0</td>\n",
              "    </tr>\n",
              "    <tr>\n",
              "      <th>3</th>\n",
              "      <td>4</td>\n",
              "      <td>L47183</td>\n",
              "      <td>0</td>\n",
              "      <td>298.2</td>\n",
              "      <td>308.6</td>\n",
              "      <td>1433</td>\n",
              "      <td>39.5</td>\n",
              "      <td>7</td>\n",
              "      <td>0</td>\n",
              "      <td>0</td>\n",
              "      <td>0</td>\n",
              "      <td>0</td>\n",
              "      <td>0</td>\n",
              "      <td>0</td>\n",
              "    </tr>\n",
              "    <tr>\n",
              "      <th>4</th>\n",
              "      <td>5</td>\n",
              "      <td>L47184</td>\n",
              "      <td>0</td>\n",
              "      <td>298.2</td>\n",
              "      <td>308.7</td>\n",
              "      <td>1408</td>\n",
              "      <td>40.0</td>\n",
              "      <td>9</td>\n",
              "      <td>0</td>\n",
              "      <td>0</td>\n",
              "      <td>0</td>\n",
              "      <td>0</td>\n",
              "      <td>0</td>\n",
              "      <td>0</td>\n",
              "    </tr>\n",
              "  </tbody>\n",
              "</table>\n",
              "</div>"
            ],
            "text/plain": [
              "   UDI Product ID  Type  Air temperature [K]  ...  HDF  PWF  OSF  RNF\n",
              "0    1     M14860     1                298.1  ...    0    0    0    0\n",
              "1    2     L47181     0                298.2  ...    0    0    0    0\n",
              "2    3     L47182     0                298.1  ...    0    0    0    0\n",
              "3    4     L47183     0                298.2  ...    0    0    0    0\n",
              "4    5     L47184     0                298.2  ...    0    0    0    0\n",
              "\n",
              "[5 rows x 14 columns]"
            ]
          },
          "metadata": {
            "tags": []
          },
          "execution_count": 4
        }
      ]
    },
    {
      "cell_type": "code",
      "metadata": {
        "id": "mzfHZGX6SiSV"
      },
      "source": [
        "# drop redundant columns / unneeded columns\n",
        "# df.drop('id', axis=1, inplace=True)\n",
        "\n",
        "df.drop('Product ID', axis=1, inplace=True)\n",
        "\n",
        "df.drop('UDI', axis=1, inplace=True)\n",
        "df.drop('TWF', axis=1, inplace=True)\n",
        "df.drop('HDF', axis=1, inplace=True)\n",
        "df.drop('PWF', axis=1, inplace=True)\n",
        "df.drop('OSF', axis=1, inplace=True)\n",
        "df.drop('RNF', axis=1, inplace=True)"
      ],
      "execution_count": 5,
      "outputs": []
    },
    {
      "cell_type": "code",
      "metadata": {
        "colab": {
          "base_uri": "https://localhost:8080/",
          "height": 204
        },
        "id": "3w_ZIT41Sm7-",
        "outputId": "16553fc8-9810-49aa-c152-7c89ae9dce1b"
      },
      "source": [
        "df.head()\n"
      ],
      "execution_count": 6,
      "outputs": [
        {
          "output_type": "execute_result",
          "data": {
            "text/html": [
              "<div>\n",
              "<style scoped>\n",
              "    .dataframe tbody tr th:only-of-type {\n",
              "        vertical-align: middle;\n",
              "    }\n",
              "\n",
              "    .dataframe tbody tr th {\n",
              "        vertical-align: top;\n",
              "    }\n",
              "\n",
              "    .dataframe thead th {\n",
              "        text-align: right;\n",
              "    }\n",
              "</style>\n",
              "<table border=\"1\" class=\"dataframe\">\n",
              "  <thead>\n",
              "    <tr style=\"text-align: right;\">\n",
              "      <th></th>\n",
              "      <th>Type</th>\n",
              "      <th>Air temperature [K]</th>\n",
              "      <th>Process temperature [K]</th>\n",
              "      <th>Rotational speed [rpm]</th>\n",
              "      <th>Torque [Nm]</th>\n",
              "      <th>Tool wear [min]</th>\n",
              "      <th>Machine failure</th>\n",
              "    </tr>\n",
              "  </thead>\n",
              "  <tbody>\n",
              "    <tr>\n",
              "      <th>0</th>\n",
              "      <td>1</td>\n",
              "      <td>298.1</td>\n",
              "      <td>308.6</td>\n",
              "      <td>1551</td>\n",
              "      <td>42.8</td>\n",
              "      <td>0</td>\n",
              "      <td>0</td>\n",
              "    </tr>\n",
              "    <tr>\n",
              "      <th>1</th>\n",
              "      <td>0</td>\n",
              "      <td>298.2</td>\n",
              "      <td>308.7</td>\n",
              "      <td>1408</td>\n",
              "      <td>46.3</td>\n",
              "      <td>3</td>\n",
              "      <td>0</td>\n",
              "    </tr>\n",
              "    <tr>\n",
              "      <th>2</th>\n",
              "      <td>0</td>\n",
              "      <td>298.1</td>\n",
              "      <td>308.5</td>\n",
              "      <td>1498</td>\n",
              "      <td>49.4</td>\n",
              "      <td>5</td>\n",
              "      <td>0</td>\n",
              "    </tr>\n",
              "    <tr>\n",
              "      <th>3</th>\n",
              "      <td>0</td>\n",
              "      <td>298.2</td>\n",
              "      <td>308.6</td>\n",
              "      <td>1433</td>\n",
              "      <td>39.5</td>\n",
              "      <td>7</td>\n",
              "      <td>0</td>\n",
              "    </tr>\n",
              "    <tr>\n",
              "      <th>4</th>\n",
              "      <td>0</td>\n",
              "      <td>298.2</td>\n",
              "      <td>308.7</td>\n",
              "      <td>1408</td>\n",
              "      <td>40.0</td>\n",
              "      <td>9</td>\n",
              "      <td>0</td>\n",
              "    </tr>\n",
              "  </tbody>\n",
              "</table>\n",
              "</div>"
            ],
            "text/plain": [
              "   Type  Air temperature [K]  ...  Tool wear [min]  Machine failure\n",
              "0     1                298.1  ...                0                0\n",
              "1     0                298.2  ...                3                0\n",
              "2     0                298.1  ...                5                0\n",
              "3     0                298.2  ...                7                0\n",
              "4     0                298.2  ...                9                0\n",
              "\n",
              "[5 rows x 7 columns]"
            ]
          },
          "metadata": {
            "tags": []
          },
          "execution_count": 6
        }
      ]
    },
    {
      "cell_type": "code",
      "metadata": {
        "colab": {
          "base_uri": "https://localhost:8080/"
        },
        "id": "IdTkpvu-S1_Z",
        "outputId": "92b32d65-fd55-4c27-ea16-588015523c47"
      },
      "source": [
        "df['Machine failure'].value_counts(normalize=True) * 100\n"
      ],
      "execution_count": 7,
      "outputs": [
        {
          "output_type": "execute_result",
          "data": {
            "text/plain": [
              "0    96.61\n",
              "1     3.39\n",
              "Name: Machine failure, dtype: float64"
            ]
          },
          "metadata": {
            "tags": []
          },
          "execution_count": 7
        }
      ]
    },
    {
      "cell_type": "code",
      "metadata": {
        "colab": {
          "base_uri": "https://localhost:8080/"
        },
        "id": "b9sJ0qqqUFxr",
        "outputId": "ffcbbbdc-1e97-4bfd-bd73-05fbb172cc10"
      },
      "source": [
        "#x_train = df\n",
        "\n",
        "# SKIP THIS, older data split code\n",
        "\n",
        "print(\"Raw Dataset shape: \" + str(df.shape))\n",
        "\n",
        "#sklearn \n",
        "dataset_size = int(df.shape[0])\n",
        "\n",
        "validate_percent = 0.15\n",
        "test_percent = 0.10\n",
        "\n",
        "#train_size = int(df.shape[0] * (validate_percent + test_percent))\n",
        "#validate_size = int(train_size * validate_percent)\n",
        "train_percent = 1.0 - validate_percent - test_percent\n",
        "\n",
        "train, validate, test = np.split(df.sample(frac=1), [int(train_percent * len(df)), int((1.0 - validate_percent) * len(df))])\n",
        "\n",
        "print(\"Train shape: \" + str(train.shape))\n",
        "\n",
        "print(\"Validate shape: \" + str(validate.shape))\n",
        "\n",
        "print(\"Test shape: \" + str(test.shape))\n"
      ],
      "execution_count": 8,
      "outputs": [
        {
          "output_type": "stream",
          "text": [
            "Raw Dataset shape: (10000, 7)\n",
            "Train shape: (7500, 7)\n",
            "Validate shape: (1000, 7)\n",
            "Test shape: (1500, 7)\n"
          ],
          "name": "stdout"
        }
      ]
    },
    {
      "cell_type": "code",
      "metadata": {
        "id": "R9RKqWEvY354"
      },
      "source": [
        "train_ratio = 0.75\n",
        "validation_ratio = 0.15\n",
        "test_ratio = 0.10\n",
        "\n",
        "df_full = df.copy()\n",
        "\n",
        "y_train_full = df_full.pop(\"Machine failure\")\n",
        "\n",
        "y_train_full = pd.DataFrame(y_train_full)\n",
        "\n",
        "\n",
        "\n",
        "# train is now 75% of the entire data set\n",
        "# the _junk suffix means that we drop that variable completely\n",
        "x_train, x_test, y_train, y_test = train_test_split(df_full, y_train_full, test_size=1 - train_ratio)\n",
        "\n",
        "# test is now 10% of the initial data set\n",
        "# validation is now 15% of the initial data set\n",
        "x_val, x_test, y_val, y_test = train_test_split(x_test, y_test, test_size=test_ratio/(test_ratio + validation_ratio)) \n",
        "\n",
        "\n",
        "#print(x_train, x_val, x_test)\n",
        "\n",
        "#print(y_train, y_val, y_test)"
      ],
      "execution_count": 9,
      "outputs": []
    },
    {
      "cell_type": "code",
      "metadata": {
        "colab": {
          "base_uri": "https://localhost:8080/"
        },
        "id": "aQhOApxXUiyP",
        "outputId": "89cbe105-90aa-4d2e-97ee-1a107c2cde2d"
      },
      "source": [
        "from sklearn.dummy import DummyClassifier\n",
        "\n",
        "clf = DummyClassifier(strategy='most_frequent',random_state=0)\n",
        "clf.fit(x_train, y_train)\n",
        "clf.score(x_val, y_val)\n",
        "\n",
        "\n",
        "dummy_predicted = clf.predict(x_val)\n",
        "\n",
        "print('Dummy Classifier Accuracy is: {}'.format(accuracy_score(y_val, dummy_predicted)))\n",
        "\n",
        "print('Dummy Classification Report')\n",
        "print(classification_report(y_val, dummy_predicted))\n",
        "\n",
        "# this is where we make the point about accuracy vs usefulness (confusion matrix)"
      ],
      "execution_count": 10,
      "outputs": [
        {
          "output_type": "stream",
          "text": [
            "Dummy Classifier Accuracy is: 0.9646666666666667\n",
            "Dummy Classification Report\n",
            "              precision    recall  f1-score   support\n",
            "\n",
            "           0       0.96      1.00      0.98      1447\n",
            "           1       0.00      0.00      0.00        53\n",
            "\n",
            "    accuracy                           0.96      1500\n",
            "   macro avg       0.48      0.50      0.49      1500\n",
            "weighted avg       0.93      0.96      0.95      1500\n",
            "\n"
          ],
          "name": "stdout"
        },
        {
          "output_type": "stream",
          "text": [
            "/usr/local/lib/python3.7/dist-packages/sklearn/metrics/_classification.py:1272: UndefinedMetricWarning: Precision and F-score are ill-defined and being set to 0.0 in labels with no predicted samples. Use `zero_division` parameter to control this behavior.\n",
            "  _warn_prf(average, modifier, msg_start, len(result))\n"
          ],
          "name": "stderr"
        }
      ]
    },
    {
      "cell_type": "code",
      "metadata": {
        "id": "1QTWp-mfbHGr"
      },
      "source": [
        "# Normalize the featues\n",
        "\n",
        "from sklearn.preprocessing import Normalizer\n",
        "\n",
        "norm = Normalizer()\n",
        "norm.fit(x_train)\n",
        "X_train_norm = norm.transform(x_train)\n",
        "X_val_norm = norm.transform(x_val)"
      ],
      "execution_count": 11,
      "outputs": []
    },
    {
      "cell_type": "code",
      "metadata": {
        "colab": {
          "base_uri": "https://localhost:8080/"
        },
        "id": "1nXRIdw8eMvu",
        "outputId": "cd4a8c1e-d589-4835-a192-609cda470dac"
      },
      "source": [
        "#SVM_params = {'C':[0.001, 0.1, 10, 100], 'kernel':['rbf' ,'linear', 'poly', 'sigmoid'], 'gamma':['auto']}\n",
        "#LR_params = {'C':[0.001, 0.1, 1, 10, 100], 'solver':['liblinear']}\n",
        "#LDA_params = {'n_components':[None, 1,2,3], 'solver':['svd'], 'shrinkage':[None]}\n",
        "RF_params = {'n_estimators':[10,50,100], 'random_state':[42]}\n",
        "#GBC_params = {'n_estimators':[10, 50, 100], 'random_state':[42]}\n",
        "\n",
        "models_opt = []\n",
        "\n",
        "#models_opt.append(('LR', LogisticRegression(), LR_params))\n",
        "#models_opt.append(('LDA', LinearDiscriminantAnalysis(), LDA_params))\n",
        "models_opt.append(('RFC', RandomForestClassifier(), RF_params))\n",
        "#models_opt.append(('SVM', SVC(), SVM_params))\n",
        "#models_opt.append(('GBC', GradientBoostingClassifier(), GBC_params))\n",
        "\n",
        "results = []\n",
        "names = []\n",
        "\n",
        "for name, model, params in models_opt:\n",
        "    kfold = KFold(n_splits=5, random_state=42, shuffle=True)\n",
        "    model_grid = GridSearchCV(model, params, cv=5) #, iid=True)\n",
        "    cv_results = cross_val_score(model_grid, X_train_norm, y_train, cv=kfold, scoring='accuracy')\n",
        "    results.append(cv_results)\n",
        "    names.append(name)\n",
        "    msg = \"Cross Validation Accuracy {} Accarcy: {} SD: {}\".format(name, cv_results.mean(), cv_results.std())\n",
        "    print(msg)"
      ],
      "execution_count": 12,
      "outputs": [
        {
          "output_type": "stream",
          "text": [
            "Cross Validation Accuracy RFC Accarcy: 0.9736 SD: 0.0010832051206181373\n"
          ],
          "name": "stdout"
        }
      ]
    },
    {
      "cell_type": "code",
      "metadata": {
        "colab": {
          "base_uri": "https://localhost:8080/"
        },
        "id": "vKIO-1RhhHp_",
        "outputId": "117fb2cf-77a6-464b-c266-687cc32a03ae"
      },
      "source": [
        "GB_params = {'n_estimators':[10, 50, 100, 200]}\n",
        "gbc = GradientBoostingClassifier(random_state=42)\n",
        "\n",
        "# Instantiate gridsearch using GBC model and search for the best parameters\n",
        "gbc_grid = GridSearchCV(gbc, GB_params, cv=3, iid=True)\n",
        "\n",
        "# Fit model to training data\n",
        "gbc_grid.fit(X_train_norm, y_train)\n",
        "\n",
        "print('Optimized number of estimators: {}'.format(gbc_grid.best_params_.values()))\n",
        "\n",
        "# Instantiate GBC with optimal parameters\n",
        "gbc_best = GradientBoostingClassifier(**gbc_grid.best_params_, random_state=42)\n",
        "\n",
        "# Fit GBC to training data\n",
        "gbc_best.fit(X_train_norm, y_train)\n",
        "\n",
        "# Evalaute GBC with validation data\n",
        "gbc_best_predicted = gbc_best.predict(X_val_norm)\n",
        "print('Model accuracy on validation data: {}'.format(accuracy_score(y_val, gbc_best_predicted)))\n",
        "print('GBC Classification Report')\n",
        "print(classification_report(y_val, gbc_best_predicted))"
      ],
      "execution_count": 13,
      "outputs": [
        {
          "output_type": "stream",
          "text": [
            "/usr/local/lib/python3.7/dist-packages/sklearn/model_selection/_search.py:823: FutureWarning: The parameter 'iid' is deprecated in 0.22 and will be removed in 0.24.\n",
            "  \"removed in 0.24.\", FutureWarning\n"
          ],
          "name": "stderr"
        },
        {
          "output_type": "stream",
          "text": [
            "Optimized number of estimators: dict_values([200])\n",
            "Model accuracy on validation data: 0.9766666666666667\n",
            "GBC Classification Report\n",
            "              precision    recall  f1-score   support\n",
            "\n",
            "           0       0.98      1.00      0.99      1447\n",
            "           1       0.80      0.45      0.58        53\n",
            "\n",
            "    accuracy                           0.98      1500\n",
            "   macro avg       0.89      0.72      0.78      1500\n",
            "weighted avg       0.97      0.98      0.97      1500\n",
            "\n"
          ],
          "name": "stdout"
        }
      ]
    }
  ]
}